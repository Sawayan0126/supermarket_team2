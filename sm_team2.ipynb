{
 "cells": [
  {
   "attachments": {},
   "cell_type": "markdown",
   "metadata": {},
   "source": [
    "## スーパーの支払金額計算"
   ]
  },
  {
   "attachments": {},
   "cell_type": "markdown",
   "metadata": {},
   "source": [
    "スーパーで買い物したときの支払金額を計算する\n",
    "\n",
    "以下の商品リストがあるとする。先頭の数字は商品番号。\n",
    "\n",
    "- りんご 100円\n",
    "- みかん 40円\n",
    "- ぶどう 150円\n",
    "- のり弁 350円\n",
    "- しゃけ弁 400円\n",
    "- タバコ 420円\n",
    "- メンソールタバコ 440円\n",
    "- ライター 100円\n",
    "- お茶 80円\n",
    "- コーヒー 100円\n",
    "\n",
    "以下の順番で、仕様を追加・実装していく。\n",
    "\n"
   ]
  },
  {
   "attachments": {},
   "cell_type": "markdown",
   "metadata": {},
   "source": [
    "### お題1 合計金額\n",
    "\n",
    "商品番号と個数を複数組、引数として受け取り、合計金額を計算する関数を書いてみよう。\n",
    "\n",
    "ヒント: 複数のものを受け取るために、配列やリストで一括で渡す方法がある。あるいは、1つ渡す関数を何回も呼び出して、最後に合計金額を計算する関数を呼び出すという形式もある。両方のアプローチをTDDで実装し見比べて、どちらが良いか判断してみよう。\n",
    "\n",
    "いきなり書くのが難しかったら、以下の補題をやってみるとよい。\n",
    "\n",
    "### 補題1\n",
    "商品番号を渡すと、1個あたりの金額を計算する関数を書いてみよう。\n",
    "\n",
    "### 補題2\n",
    "商品番号を複数渡すと、個数1個として金額を合計する関数を書いてみよう。"
   ]
  },
  {
   "cell_type": "code",
   "execution_count": 5,
   "metadata": {},
   "outputs": [
    {
     "name": "stderr",
     "output_type": "stream",
     "text": [
      "/var/folders/zw/d0863q893453s1rly86v69vm0000gn/T/ipykernel_68921/1601581454.py:4: FutureWarning: this method is deprecated in favour of `Styler.hide(axis=\"index\")`\n",
      "  df1=df.style.hide_index()\n"
     ]
    },
    {
     "data": {
      "text/html": [
       "<style type=\"text/css\">\n",
       "</style>\n",
       "<table id=\"T_185c8\">\n",
       "  <thead>\n",
       "    <tr>\n",
       "      <th id=\"T_185c8_level0_col0\" class=\"col_heading level0 col0\" >product_code</th>\n",
       "      <th id=\"T_185c8_level0_col1\" class=\"col_heading level0 col1\" >product_name</th>\n",
       "      <th id=\"T_185c8_level0_col2\" class=\"col_heading level0 col2\" >price</th>\n",
       "    </tr>\n",
       "  </thead>\n",
       "  <tbody>\n",
       "    <tr>\n",
       "      <td id=\"T_185c8_row0_col0\" class=\"data row0 col0\" >1</td>\n",
       "      <td id=\"T_185c8_row0_col1\" class=\"data row0 col1\" >りんご</td>\n",
       "      <td id=\"T_185c8_row0_col2\" class=\"data row0 col2\" >100</td>\n",
       "    </tr>\n",
       "    <tr>\n",
       "      <td id=\"T_185c8_row1_col0\" class=\"data row1 col0\" >2</td>\n",
       "      <td id=\"T_185c8_row1_col1\" class=\"data row1 col1\" >みかん</td>\n",
       "      <td id=\"T_185c8_row1_col2\" class=\"data row1 col2\" >40</td>\n",
       "    </tr>\n",
       "    <tr>\n",
       "      <td id=\"T_185c8_row2_col0\" class=\"data row2 col0\" >3</td>\n",
       "      <td id=\"T_185c8_row2_col1\" class=\"data row2 col1\" >ぶどう</td>\n",
       "      <td id=\"T_185c8_row2_col2\" class=\"data row2 col2\" >150</td>\n",
       "    </tr>\n",
       "    <tr>\n",
       "      <td id=\"T_185c8_row3_col0\" class=\"data row3 col0\" >4</td>\n",
       "      <td id=\"T_185c8_row3_col1\" class=\"data row3 col1\" >のり弁</td>\n",
       "      <td id=\"T_185c8_row3_col2\" class=\"data row3 col2\" >350</td>\n",
       "    </tr>\n",
       "    <tr>\n",
       "      <td id=\"T_185c8_row4_col0\" class=\"data row4 col0\" >5</td>\n",
       "      <td id=\"T_185c8_row4_col1\" class=\"data row4 col1\" >しゃけ弁</td>\n",
       "      <td id=\"T_185c8_row4_col2\" class=\"data row4 col2\" >400</td>\n",
       "    </tr>\n",
       "    <tr>\n",
       "      <td id=\"T_185c8_row5_col0\" class=\"data row5 col0\" >6</td>\n",
       "      <td id=\"T_185c8_row5_col1\" class=\"data row5 col1\" >タバコ</td>\n",
       "      <td id=\"T_185c8_row5_col2\" class=\"data row5 col2\" >420</td>\n",
       "    </tr>\n",
       "    <tr>\n",
       "      <td id=\"T_185c8_row6_col0\" class=\"data row6 col0\" >7</td>\n",
       "      <td id=\"T_185c8_row6_col1\" class=\"data row6 col1\" >メンソールタバコ</td>\n",
       "      <td id=\"T_185c8_row6_col2\" class=\"data row6 col2\" >440</td>\n",
       "    </tr>\n",
       "    <tr>\n",
       "      <td id=\"T_185c8_row7_col0\" class=\"data row7 col0\" >8</td>\n",
       "      <td id=\"T_185c8_row7_col1\" class=\"data row7 col1\" >ライター</td>\n",
       "      <td id=\"T_185c8_row7_col2\" class=\"data row7 col2\" >100</td>\n",
       "    </tr>\n",
       "    <tr>\n",
       "      <td id=\"T_185c8_row8_col0\" class=\"data row8 col0\" >9</td>\n",
       "      <td id=\"T_185c8_row8_col1\" class=\"data row8 col1\" >お茶</td>\n",
       "      <td id=\"T_185c8_row8_col2\" class=\"data row8 col2\" >80</td>\n",
       "    </tr>\n",
       "    <tr>\n",
       "      <td id=\"T_185c8_row9_col0\" class=\"data row9 col0\" >10</td>\n",
       "      <td id=\"T_185c8_row9_col1\" class=\"data row9 col1\" >コーヒー</td>\n",
       "      <td id=\"T_185c8_row9_col2\" class=\"data row9 col2\" >100</td>\n",
       "    </tr>\n",
       "  </tbody>\n",
       "</table>\n"
      ],
      "text/plain": [
       "<pandas.io.formats.style.Styler at 0x7fb7d8592c80>"
      ]
     },
     "metadata": {},
     "output_type": "display_data"
    },
    {
     "name": "stdout",
     "output_type": "stream",
     "text": [
      "欲しい商品の商品番号を入力してください。\n",
      "購入する個数を入力してください。\n",
      "続けて商品を購入する際には1,そうでない場合は0を入力してください。\n",
      "欲しい商品の商品番号を入力してください。\n",
      "購入する個数を入力してください。\n",
      "続けて商品を購入する際には1,そうでない場合は0を入力してください。\n",
      "みかんを3個\n",
      "しゃけ弁を6個\n",
      "合計で2520円になります\n"
     ]
    }
   ],
   "source": [
    "import pandas as pd\n",
    "\n",
    "df=pd.read_csv('/Users/estyle-123/Documents/sm-git/sm_data.csv')\n",
    "df1=df.style.hide_index()\n",
    "cd=[]\n",
    "n=[]\n",
    "x=1\n",
    "\n",
    "display(df1)\n",
    "while x == 1:\n",
    "    print('欲しい商品の商品番号を入力してください。')\n",
    "    cdi=int(input())\n",
    "    cd.append(cdi)\n",
    "    print('購入する個数を入力してください。')\n",
    "    ni=int(input())\n",
    "    n.append(ni)\n",
    "    print('続けて商品を購入する際には1,そうでない場合は0を入力してください。')\n",
    "    x=int(input())\n",
    "\n",
    "sum=0\n",
    "for i in range(len(cd)):\n",
    "    sum += df.loc[df['product_code']==cd[i],'price'].values[0] * n[i]\n",
    "    print(f'{df.loc[df[\"product_code\"]==cd[i],\"product_name\"].values[0]}を{n[i]}個')\n",
    "\n",
    "print(f'合計で{sum}円になります')"
   ]
  },
  {
   "attachments": {},
   "cell_type": "markdown",
   "metadata": {},
   "source": [
    "### お題2 消費税\n",
    "\n",
    "商品リストの金額は外税なので、合計金額に消費税8％を足して、支払金額を返すようにしよう。"
   ]
  },
  {
   "cell_type": "code",
   "execution_count": null,
   "metadata": {},
   "outputs": [],
   "source": []
  },
  {
   "attachments": {},
   "cell_type": "markdown",
   "metadata": {},
   "source": [
    "### お題3 タバコの消費税\n",
    "\n",
    "タバコの価格には消費税が含まれているので(内税)、消費税の計算からタバコは除かないといけない。"
   ]
  },
  {
   "cell_type": "code",
   "execution_count": null,
   "metadata": {},
   "outputs": [],
   "source": []
  },
  {
   "attachments": {},
   "cell_type": "markdown",
   "metadata": {},
   "source": [
    "### お題4 割引\n",
    "\n",
    "リンゴは1個100円だが、3つ買うと280円になる。"
   ]
  },
  {
   "cell_type": "code",
   "execution_count": null,
   "metadata": {},
   "outputs": [],
   "source": []
  },
  {
   "attachments": {},
   "cell_type": "markdown",
   "metadata": {},
   "source": [
    "### お題5 おまけ\n",
    "\n",
    "なんでも、同じものを10個買うと、1個おまけでもらえる。11個で10個ぶんの金額（12個で11個分、20個で19個分、22個で20個ぶん、...)という形で実現しよう。\n"
   ]
  },
  {
   "cell_type": "code",
   "execution_count": null,
   "metadata": {},
   "outputs": [],
   "source": []
  },
  {
   "attachments": {},
   "cell_type": "markdown",
   "metadata": {},
   "source": [
    "### お題6 おまけのライター\n",
    "\n",
    "タバコを1カートン(10個)買うと、ライターがおまけでもらえる。引数にライターがあったら無料になるというふうに実現しよう。"
   ]
  },
  {
   "cell_type": "code",
   "execution_count": null,
   "metadata": {},
   "outputs": [],
   "source": []
  },
  {
   "attachments": {},
   "cell_type": "markdown",
   "metadata": {},
   "source": [
    "### お題7 お弁当\n",
    "\n",
    "弁当類と飲み物(お茶とコーヒー)をいっしょに買うと、20円引きになる。"
   ]
  },
  {
   "cell_type": "code",
   "execution_count": null,
   "metadata": {},
   "outputs": [],
   "source": []
  },
  {
   "attachments": {},
   "cell_type": "markdown",
   "metadata": {},
   "source": [
    "### お題8 サービスしすぎない\n",
    "\n",
    "お題4～7のようなサービスは、同じ商品については重複しない。一番安くなるものをひとつだけ適用する。\n",
    "\n"
   ]
  },
  {
   "cell_type": "code",
   "execution_count": null,
   "metadata": {},
   "outputs": [],
   "source": []
  },
  {
   "attachments": {},
   "cell_type": "markdown",
   "metadata": {},
   "source": [
    "### お題9 タイムセール\n",
    "\n",
    "お弁当は20時を過ぎると半額になる。"
   ]
  },
  {
   "cell_type": "code",
   "execution_count": null,
   "metadata": {},
   "outputs": [],
   "source": []
  },
  {
   "attachments": {},
   "cell_type": "markdown",
   "metadata": {},
   "source": [
    "### お題10 タイムセールとサービス\n",
    "\n",
    "お弁当のタイムセールは、他のサービスと重複してよい。"
   ]
  },
  {
   "cell_type": "code",
   "execution_count": null,
   "metadata": {},
   "outputs": [],
   "source": []
  }
 ],
 "metadata": {
  "kernelspec": {
   "display_name": "first",
   "language": "python",
   "name": "python3"
  },
  "language_info": {
   "codemirror_mode": {
    "name": "ipython",
    "version": 3
   },
   "file_extension": ".py",
   "mimetype": "text/x-python",
   "name": "python",
   "nbconvert_exporter": "python",
   "pygments_lexer": "ipython3",
   "version": "3.10.9"
  },
  "orig_nbformat": 4
 },
 "nbformat": 4,
 "nbformat_minor": 2
}
