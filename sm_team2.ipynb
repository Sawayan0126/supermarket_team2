{
 "cells": [
  {
   "attachments": {},
   "cell_type": "markdown",
   "metadata": {},
   "source": [
    "## スーパーの支払金額計算"
   ]
  },
  {
   "attachments": {},
   "cell_type": "markdown",
   "metadata": {},
   "source": [
    "スーパーで買い物したときの支払金額を計算する\n",
    "\n",
    "以下の商品リストがあるとする。先頭の数字は商品番号。\n",
    "\n",
    "- りんご 100円\n",
    "- みかん 40円\n",
    "- ぶどう 150円\n",
    "- のり弁 350円\n",
    "- しゃけ弁 400円\n",
    "- タバコ 420円\n",
    "- メンソールタバコ 440円\n",
    "- ライター 100円\n",
    "- お茶 80円\n",
    "- コーヒー 100円\n",
    "\n",
    "以下の順番で、仕様を追加・実装していく。\n",
    "\n"
   ]
  },
  {
   "attachments": {},
   "cell_type": "markdown",
   "metadata": {},
   "source": [
    "### お題1 合計金額\n",
    "\n",
    "商品番号と個数を複数組、引数として受け取り、合計金額を計算する関数を書いてみよう。\n",
    "\n",
    "ヒント: 複数のものを受け取るために、配列やリストで一括で渡す方法がある。あるいは、1つ渡す関数を何回も呼び出して、最後に合計金額を計算する関数を呼び出すという形式もある。両方のアプローチをTDDで実装し見比べて、どちらが良いか判断してみよう。\n",
    "\n",
    "いきなり書くのが難しかったら、以下の補題をやってみるとよい。\n",
    "\n",
    "### 補題1\n",
    "商品番号を渡すと、1個あたりの金額を計算する関数を書いてみよう。\n",
    "\n",
    "### 補題2\n",
    "商品番号を複数渡すと、個数1個として金額を合計する関数を書いてみよう。"
   ]
  },
  {
   "cell_type": "code",
   "execution_count": 2,
   "metadata": {},
   "outputs": [
    {
     "name": "stdout",
     "output_type": "stream",
     "text": [
      "/Users/estyle-118/Desktop/mark_waka\n",
      "/Users/estyle-118/Desktop/mark_waka/sm_data.csv\n"
     ]
    }
   ],
   "source": [
    "import pandas as pd\n",
    "import os\n",
    "\n",
    "print(os.getcwd())\n",
    "\n",
    "current_dir_path = os.getcwd()\n",
    "csv_path = f'{current_dir_path}/sm_data.csv'\n",
    "\n",
    "print(csv_path)\n",
    "\n",
    "df=pd.read_csv(csv_path)\n",
    "print(df)\n",
    "# df1=df.style.hide_index()\n",
    "# cd=[]\n",
    "# n=[]\n",
    "# x=1\n",
    "\n",
    "# display(df1)\n",
    "# while x == 1:\n",
    "#     print('欲しい商品の商品番号を入力してください。')\n",
    "#     cdi=int(input())\n",
    "#     cd.append(cdi)\n",
    "#     print('購入する個数を入力してください。')\n",
    "#     ni=int(input())\n",
    "#     n.append(ni)\n",
    "#     print('続けて商品を購入する際には1,そうでない場合は0を入力してください。')\n",
    "#     x=int(input())\n",
    "\n",
    "# sum=0\n",
    "# for i in range(len(cd)):\n",
    "#     sum += df.loc[df['product_code']==cd[i],'price'].values[0] * n[i]\n",
    "#     print(f'{df.loc[df[\"product_code\"]==cd[i],\"product_name\"].values[0]}を{n[i]}個')\n",
    "\n",
    "# print(f'合計で{sum}円になります')"
   ]
  },
  {
   "attachments": {},
   "cell_type": "markdown",
   "metadata": {},
   "source": [
    "### お題2 消費税\n",
    "\n",
    "商品リストの金額は外税なので、合計金額に消費税8％を足して、支払金額を返すようにしよう。"
   ]
  },
  {
   "cell_type": "code",
   "execution_count": null,
   "metadata": {},
   "outputs": [],
   "source": [
    "def price_tax_include(x):\n",
    "    if x != 6 and x !=7:\n",
    "        return round( df.loc[ df['product_code']==x, 'price'].values[0] * 1.08 )\n",
    "    else:\n",
    "        return round( df.loc[ df['product_code']==x, 'price'].values[0] )\n",
    "\n",
    "#lisには product_codeを格納.\n",
    "def price_tax_sum(lis):\n",
    "    sum_price=0\n",
    "    for i in range ( len(lis) ):\n",
    "        sum_price = sum_price+price_tax_include( lis[i] )\n",
    "    return sum_price"
   ]
  },
  {
   "attachments": {},
   "cell_type": "markdown",
   "metadata": {},
   "source": [
    "### お題3 タバコの消費税\n",
    "\n",
    "タバコの価格には消費税が含まれているので(内税)、消費税の計算からタバコは除かないといけない。"
   ]
  },
  {
   "cell_type": "code",
   "execution_count": null,
   "metadata": {},
   "outputs": [],
   "source": [
    "#2のタバコの消費税価格関数でタバコのみをif文で除外を追加."
   ]
  },
  {
   "attachments": {},
   "cell_type": "markdown",
   "metadata": {},
   "source": [
    "### お題4 割引\n",
    "\n",
    "リンゴは1個100円だが、3つ買うと280円になる。"
   ]
  },
  {
   "cell_type": "code",
   "execution_count": null,
   "metadata": {},
   "outputs": [],
   "source": []
  },
  {
   "attachments": {},
   "cell_type": "markdown",
   "metadata": {},
   "source": [
    "### お題5 おまけ\n",
    "\n",
    "なんでも、同じものを10個買うと、1個おまけでもらえる。11個で10個ぶんの金額（12個で11個分、20個で19個分、22個で20個ぶん、...)という形で実現しよう。\n"
   ]
  },
  {
   "cell_type": "code",
   "execution_count": null,
   "metadata": {},
   "outputs": [],
   "source": []
  },
  {
   "attachments": {},
   "cell_type": "markdown",
   "metadata": {},
   "source": [
    "### お題6 おまけのライター\n",
    "\n",
    "タバコを1カートン(10個)買うと、ライターがおまけでもらえる。引数にライターがあったら無料になるというふうに実現しよう。"
   ]
  },
  {
   "cell_type": "code",
   "execution_count": null,
   "metadata": {},
   "outputs": [],
   "source": []
  },
  {
   "attachments": {},
   "cell_type": "markdown",
   "metadata": {},
   "source": [
    "### お題7 お弁当\n",
    "\n",
    "弁当類と飲み物(お茶とコーヒー)をいっしょに買うと、20円引きになる。"
   ]
  },
  {
   "cell_type": "code",
   "execution_count": null,
   "metadata": {},
   "outputs": [],
   "source": []
  },
  {
   "attachments": {},
   "cell_type": "markdown",
   "metadata": {},
   "source": [
    "### お題8 サービスしすぎない\n",
    "\n",
    "お題4～7のようなサービスは、同じ商品については重複しない。一番安くなるものをひとつだけ適用する。\n",
    "\n"
   ]
  },
  {
   "cell_type": "code",
   "execution_count": null,
   "metadata": {},
   "outputs": [],
   "source": []
  },
  {
   "attachments": {},
   "cell_type": "markdown",
   "metadata": {},
   "source": [
    "### お題9 タイムセール\n",
    "\n",
    "お弁当は20時を過ぎると半額になる。"
   ]
  },
  {
   "cell_type": "code",
   "execution_count": null,
   "metadata": {},
   "outputs": [],
   "source": []
  },
  {
   "attachments": {},
   "cell_type": "markdown",
   "metadata": {},
   "source": [
    "### お題10 タイムセールとサービス\n",
    "\n",
    "お弁当のタイムセールは、他のサービスと重複してよい。"
   ]
  },
  {
   "cell_type": "code",
   "execution_count": null,
   "metadata": {},
   "outputs": [],
   "source": []
  }
 ],
 "metadata": {
  "kernelspec": {
   "display_name": "first",
   "language": "python",
   "name": "python3"
  },
  "language_info": {
   "codemirror_mode": {
    "name": "ipython",
    "version": 3
   },
   "file_extension": ".py",
   "mimetype": "text/x-python",
   "name": "python",
   "nbconvert_exporter": "python",
   "pygments_lexer": "ipython3",
   "version": "3.10.9"
  },
  "orig_nbformat": 4
 },
 "nbformat": 4,
 "nbformat_minor": 2
}
